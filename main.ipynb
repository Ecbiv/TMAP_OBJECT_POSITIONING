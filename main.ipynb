{
 "cells": [
  {
   "cell_type": "code",
   "execution_count": 1,
   "metadata": {},
   "outputs": [],
   "source": [
    "import numpy as np\n",
    "import pandas as pd\n",
    "import cv2\n",
    "from PIL import Image\n",
    "import VisualDataMaker"
   ]
  },
  {
   "cell_type": "code",
   "execution_count": 3,
   "metadata": {},
   "outputs": [],
   "source": [
    "data = VisualDataMaker.combine(\"./random_BG_IMG/n_data/*.jpg\", \"./original_DOB_images/*.png\")\n",
    "l = VisualDataMaker.plot_bounding_box(data)"
   ]
  },
  {
   "cell_type": "code",
   "execution_count": 4,
   "metadata": {},
   "outputs": [
    {
     "data": {
      "text/plain": [
       "array([array([[[164, 135, 114],\n",
       "               [164, 135, 114],\n",
       "               [164, 135, 114],\n",
       "               ...,\n",
       "               [190, 187, 183],\n",
       "               [191, 188, 184],\n",
       "               [191, 188, 184]],\n",
       "\n",
       "              [[164, 135, 114],\n",
       "               [164, 135, 114],\n",
       "               [164, 135, 114],\n",
       "               ...,\n",
       "               [189, 186, 182],\n",
       "               [190, 187, 183],\n",
       "               [191, 188, 184]],\n",
       "\n",
       "              [[164, 135, 114],\n",
       "               [164, 135, 114],\n",
       "               [164, 135, 114],\n",
       "               ...,\n",
       "               [187, 184, 180],\n",
       "               [188, 185, 181],\n",
       "               [189, 186, 182]],\n",
       "\n",
       "              ...,\n",
       "\n",
       "              [[140, 145, 146],\n",
       "               [140, 145, 146],\n",
       "               [140, 145, 146],\n",
       "               ...,\n",
       "               [147, 153, 158],\n",
       "               [143, 149, 154],\n",
       "               [140, 146, 151]],\n",
       "\n",
       "              [[146, 151, 152],\n",
       "               [145, 150, 151],\n",
       "               [144, 149, 150],\n",
       "               ...,\n",
       "               [139, 145, 150],\n",
       "               [139, 145, 150],\n",
       "               [140, 146, 151]],\n",
       "\n",
       "              [[151, 156, 157],\n",
       "               [150, 155, 156],\n",
       "               [147, 152, 153],\n",
       "               ...,\n",
       "               [153, 159, 164],\n",
       "               [158, 164, 169],\n",
       "               [163, 169, 174]]], dtype=uint8),\n",
       "       './original_DOB_images\\\\CircleArtificial.png', (64, 55), 13],\n",
       "      dtype=object)"
      ]
     },
     "execution_count": 4,
     "metadata": {},
     "output_type": "execute_result"
    }
   ],
   "source": [
    "cv2.imshow(\"i\", l[0][0])\n",
    "cv2.waitKey()"
   ]
  }
 ],
 "metadata": {
  "kernelspec": {
   "display_name": "Python 3.10.8 64-bit (microsoft store)",
   "language": "python",
   "name": "python3"
  },
  "language_info": {
   "codemirror_mode": {
    "name": "ipython",
    "version": 3
   },
   "file_extension": ".py",
   "mimetype": "text/x-python",
   "name": "python",
   "nbconvert_exporter": "python",
   "pygments_lexer": "ipython3",
   "version": "3.10.8"
  },
  "orig_nbformat": 4,
  "vscode": {
   "interpreter": {
    "hash": "dab53f68662114d0032c52f31d544ff4656fd9cb0611c0a7e2cc6f9c581dded3"
   }
  }
 },
 "nbformat": 4,
 "nbformat_minor": 2
}
