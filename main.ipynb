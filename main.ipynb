{
 "cells": [
  {
   "cell_type": "code",
   "execution_count": 9,
   "metadata": {},
   "outputs": [],
   "source": [
    "import numpy as np\n",
    "import matplotlib.pyplot as plt\n",
    "import VisualDataMaker\n",
    "import CNNRegressionAndSoftmax as CRS\n",
    "import tensorflow as tf"
   ]
  },
  {
   "cell_type": "code",
   "execution_count": 10,
   "metadata": {},
   "outputs": [],
   "source": [
    "data, OHE_LABELS = VisualDataMaker.combine(\"./random_BG_IMG/n_data/*.jpg\", \"./original_DOB_images/*.png\")\n",
    "#bounded_DOB = VisualDataMaker.plot_bounding_box(data)"
   ]
  },
  {
   "cell_type": "code",
   "execution_count": 3,
   "metadata": {},
   "outputs": [],
   "source": [
    "batch = []\n",
    "regr_truth = []\n",
    "class_truth = []\n",
    "for i in range(len(data)):\n",
    "    batch.append(data[i][0])\n",
    "    regr_truth.append([data[i][2][0], data[i][2][1], data[i][3]])\n",
    "    class_truth.append(OHE_LABELS[data[i][1]])"
   ]
  },
  {
   "cell_type": "code",
   "execution_count": 4,
   "metadata": {},
   "outputs": [],
   "source": [
    "batch = np.array(batch)\n",
    "regr_truth = np.array(regr_truth)\n",
    "class_truth = np.array(class_truth)"
   ]
  },
  {
   "cell_type": "code",
   "execution_count": 5,
   "metadata": {},
   "outputs": [
    {
     "data": {
      "text/plain": [
       "((37450, 224, 224), (37450, 3), (37450, 10))"
      ]
     },
     "execution_count": 5,
     "metadata": {},
     "output_type": "execute_result"
    }
   ],
   "source": [
    "batch.shape, regr_truth.shape, class_truth.shape"
   ]
  },
  {
   "cell_type": "code",
   "execution_count": 6,
   "metadata": {},
   "outputs": [],
   "source": [
    "batch = tf.keras.backend.constant(batch)"
   ]
  },
  {
   "cell_type": "code",
   "execution_count": null,
   "metadata": {},
   "outputs": [],
   "source": [
    "model = CRS.getUntrainedModel()"
   ]
  },
  {
   "cell_type": "code",
   "execution_count": null,
   "metadata": {},
   "outputs": [],
   "source": [
    "model.summary()"
   ]
  },
  {
   "cell_type": "code",
   "execution_count": null,
   "metadata": {},
   "outputs": [
    {
     "data": {
      "text/plain": [
       "'\\nmy_callbacks = [\\n    tf.keras.callbacks.EarlyStopping(monitor=\"class_accuracy\", patience=5, restore_best_weights=True),\\n    tf.keras.callbacks.EarlyStopping(monitor=\"boundary_box_mse\", patience=5, restore_best_weights=True),\\n    tf.keras.callbacks.ReduceLROnPlateau(monitor=\"class_accuracy\", patience=2),\\n    tf.keras.callbacks.ReduceLROnPlateau(monitor=\"boundary_box_mse\", patience=2),\\n    tf.keras.callbacks.TensorBoard(log_dir=\\'./logs\\')\\n]\\n'"
      ]
     },
     "execution_count": 31,
     "metadata": {},
     "output_type": "execute_result"
    }
   ],
   "source": [
    "my_callbacks = [\n",
    "    tf.keras.callbacks.EarlyStopping(monitor=\"class_loss\", patience=5, restore_best_weights=True),\n",
    "    tf.keras.callbacks.EarlyStopping(monitor=\"Coordinates_Surface_Area_root_mean_squared_error\", patience=5, restore_best_weights=True),\n",
    "    tf.keras.callbacks.ReduceLROnPlateau(monitor=\"Coordinates_Surface_Area_root_mean_squared_error\", patience=2),\n",
    "    tf.keras.callbacks.ReduceLROnPlateau(monitor=\"class_loss\", patience=2),\n",
    "    tf.keras.callbacks.TensorBoard(log_dir='./logs')\n",
    "]"
   ]
  },
  {
   "cell_type": "code",
   "execution_count": null,
   "metadata": {},
   "outputs": [],
   "source": [
    "model.fit(batch, [class_truth, regr_truth], epochs=200, batch_size=64, callbacks=my_callbacks)"
   ]
  },
  {
   "cell_type": "code",
   "execution_count": null,
   "metadata": {},
   "outputs": [],
   "source": [
    "model.save(\"./Saved_Models/CNN_Regression_and_Softmax\")"
   ]
  },
  {
   "cell_type": "code",
   "execution_count": null,
   "metadata": {},
   "outputs": [],
   "source": [
    "model = tf.keras.models.load_model(\"./saved_models/content/Saved_Models/CNN_Regression_and_Softmax/\")"
   ]
  }
 ],
 "metadata": {
  "kernelspec": {
   "display_name": "Python 3.10.8 64-bit (microsoft store)",
   "language": "python",
   "name": "python3"
  },
  "language_info": {
   "codemirror_mode": {
    "name": "ipython",
    "version": 3
   },
   "file_extension": ".py",
   "mimetype": "text/x-python",
   "name": "python",
   "nbconvert_exporter": "python",
   "pygments_lexer": "ipython3",
   "version": "3.10.8"
  },
  "orig_nbformat": 4,
  "vscode": {
   "interpreter": {
    "hash": "dab53f68662114d0032c52f31d544ff4656fd9cb0611c0a7e2cc6f9c581dded3"
   }
  }
 },
 "nbformat": 4,
 "nbformat_minor": 2
}
